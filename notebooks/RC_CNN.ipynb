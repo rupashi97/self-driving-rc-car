{
 "cells": [
  {
   "cell_type": "code",
   "execution_count": 2,
   "metadata": {},
   "outputs": [
    {
     "name": "stderr",
     "output_type": "stream",
     "text": [
      "Using TensorFlow backend.\n"
     ]
    }
   ],
   "source": [
    "# Importing libraries\n",
    "import numpy as np \n",
    "import matplotlib.pyplot as plt\n",
    "import pandas as pd \n",
    "import math\n",
    "import  cv2\n",
    "\n",
    "# model\n",
    "import keras\n",
    "from keras.utils import to_categorical\n",
    "from keras.models import Sequential, load_model\n",
    "from keras.layers import Dense, Dropout, Flatten, Activation\n",
    "from keras.layers.normalization import BatchNormalization\n",
    "from keras.optimizers import SGD\n",
    "from keras.layers.convolutional import Conv2D\n",
    "from sklearn.model_selection import train_test_split"
   ]
  },
  {
   "cell_type": "code",
   "execution_count": 2,
   "metadata": {},
   "outputs": [],
   "source": [
    "# Loading dataset\n",
    "\n",
    "# X = np.genfromtxt(\"Training_Data.csv\", delimiter =',')  \n",
    "# Y = np.genfromtxt(\"Training_Labels.csv\", delimiter =',')  \n",
    "\n",
    "train_X = np.load(\"online_dataset/train_X.npy\")\n",
    "train_Y = np.load(\"online_dataset/train_y.npy\")\n",
    "test_X = np.load(\"online_dataset/test_X.npy\")\n",
    "test_Y = np.load(\"online_dataset/test_y.npy\")"
   ]
  },
  {
   "cell_type": "code",
   "execution_count": null,
   "metadata": {},
   "outputs": [],
   "source": [
    "#del train_X_new"
   ]
  },
  {
   "cell_type": "code",
   "execution_count": 3,
   "metadata": {},
   "outputs": [],
   "source": [
    "# CNN Preprocessing for online dataset \n",
    "\n",
    "train_X_new = np.empty((train_X.shape[0], 45,80))\n",
    "index = 0\n",
    "\n",
    "for record in train_X:    \n",
    "    sample = cv2.cvtColor(np.reshape(record, (45,80, 3)), cv2.COLOR_BGR2GRAY)\n",
    "    #sample = sample.reshape((1,45*80))\n",
    "    sample = (np.asfarray(sample)/ 255.0) \n",
    "    if index < train_X.shape[0]:\n",
    "        train_X_new[index, :, :] = sample\n",
    "    index = index + 1\n",
    "\n",
    "test_X_new = np.empty((test_X.shape[0], 45,80))\n",
    "index = 0\n",
    "\n",
    "for record in test_X:    \n",
    "    sample = cv2.cvtColor(np.reshape(record, (45,80, 3)), cv2.COLOR_BGR2GRAY)\n",
    "    #sample = sample.reshape((1,45*80))\n",
    "    sample = (np.asfarray(sample)/ 255.0) \n",
    "    if index < test_X.shape[0]:\n",
    "        test_X_new[index, :] = sample\n",
    "    index = index + 1"
   ]
  },
  {
   "cell_type": "code",
   "execution_count": 7,
   "metadata": {},
   "outputs": [
    {
     "data": {
      "text/plain": [
       "(45, 80)"
      ]
     },
     "execution_count": 7,
     "metadata": {},
     "output_type": "execute_result"
    }
   ],
   "source": [
    "sample.shape"
   ]
  },
  {
   "cell_type": "code",
   "execution_count": 12,
   "metadata": {},
   "outputs": [
    {
     "name": "stdout",
     "output_type": "stream",
     "text": [
      "train_X_old.shape, test_X_old.shape, train_X.shape, test_X.shape\n",
      "(102496, 45, 80, 1) (1000, 45, 80, 1) (102496, 45, 80) (1000, 45, 80)\n"
     ]
    }
   ],
   "source": [
    "# Correcting nomenclature\n",
    "\n",
    "train_X_old = train_X\n",
    "test_X_old = test_X\n",
    "train_X = train_X_new\n",
    "test_X = test_X_new\n",
    "print(\"train_X_old.shape, test_X_old.shape, train_X.shape, test_X.shape\")\n",
    "print(train_X_old.shape, test_X_old.shape, train_X.shape, test_X.shape)"
   ]
  },
  {
   "cell_type": "code",
   "execution_count": null,
   "metadata": {},
   "outputs": [],
   "source": [
    "print(train_X.shape, test_X.shape, train_Y.shape, test_Y.shape)\n",
    "\n",
    "train_X, valid_X, train_Y, valid_Y = train_test_split(train_X, train_Y, test_size=0.2, random_state=13)\n",
    "print(train_X.shape, valid_X.shape, train_Y.shape, valid_Y.shape)"
   ]
  },
  {
   "cell_type": "code",
   "execution_count": null,
   "metadata": {},
   "outputs": [],
   "source": [
    "train_Y = to_categorical(train_Y, num_classes = 3)\n",
    "valid_Y = to_categorical(valid_Y, num_classes = 3)"
   ]
  },
  {
   "cell_type": "code",
   "execution_count": 17,
   "metadata": {},
   "outputs": [
    {
     "data": {
      "image/png": "[encoded data removed]",
      "text/plain": [
       "<matplotlib.figure.Figure at 0x250800b4a90>"
      ]
     },
     "metadata": {},
     "output_type": "display_data"
    }
   ],
   "source": [
    "train_X[1].shape, test_X.shape\n",
    "\n",
    "plt.imshow(train_X[1], cmap=\"gray\")\n",
    "plt.show()\n"
   ]
  },
  {
   "cell_type": "code",
   "execution_count": 5,
   "metadata": {},
   "outputs": [],
   "source": [
    "train_X = train_X.reshape(train_X.shape[0], 45,80,1)\n",
    "test_X = test_X.reshape(test_X.shape[0], 45,80,1)\n",
    "#valid_X = valid_X.reshape(valid_X.shape[0], 45,80,1)"
   ]
  },
  {
   "cell_type": "code",
   "execution_count": null,
   "metadata": {},
   "outputs": [],
   "source": [
    "del model"
   ]
  },
  {
   "cell_type": "code",
   "execution_count": 3,
   "metadata": {},
   "outputs": [],
   "source": [
    "# Lets start defining our model\n",
    "model = Sequential()\n",
    "\n",
    "model.add(Conv2D(32, (3, 3), input_shape=(45, 80, 1), padding='same', activation='relu'))\n",
    "model.add(Conv2D(64, (3, 3), activation='relu', padding='valid'))\n",
    "model.add(Conv2D(64, (3, 3), activation='relu', padding='valid'))\n",
    "\n",
    "# We flatten our data in order to feed it through the dense(output) layer\n",
    "model.add(Flatten())\n",
    "model.add(Dense(512, activation='relu'))\n",
    "model.add(Dense(3, activation='linear'))\n",
    "\n",
    "# Compiling the ANN\n",
    "model.compile(optimizer = 'adam', loss = 'categorical_crossentropy', metrics = ['accuracy'])\n"
   ]
  },
  {
   "cell_type": "code",
   "execution_count": 5,
   "metadata": {},
   "outputs": [
    {
     "data": {
      "text/plain": [
       "199424"
      ]
     },
     "execution_count": 5,
     "metadata": {},
     "output_type": "execute_result"
    }
   ],
   "source": [
    "41*76*64"
   ]
  },
  {
   "cell_type": "code",
   "execution_count": 4,
   "metadata": {},
   "outputs": [
    {
     "name": "stdout",
     "output_type": "stream",
     "text": [
      "_________________________________________________________________\n",
      "Layer (type)                 Output Shape              Param #   \n",
      "=================================================================\n",
      "conv2d_1 (Conv2D)            (None, 45, 80, 32)        320       \n",
      "_________________________________________________________________\n",
      "conv2d_2 (Conv2D)            (None, 43, 78, 64)        18496     \n",
      "_________________________________________________________________\n",
      "conv2d_3 (Conv2D)            (None, 41, 76, 64)        36928     \n",
      "_________________________________________________________________\n",
      "flatten_1 (Flatten)          (None, 199424)            0         \n",
      "_________________________________________________________________\n",
      "dense_1 (Dense)              (None, 512)               102105600 \n",
      "_________________________________________________________________\n",
      "dense_2 (Dense)              (None, 3)                 1539      \n",
      "=================================================================\n",
      "Total params: 102,162,883\n",
      "Trainable params: 102,162,883\n",
      "Non-trainable params: 0\n",
      "_________________________________________________________________\n"
     ]
    }
   ],
   "source": [
    "model.summary()"
   ]
  },
  {
   "cell_type": "code",
   "execution_count": null,
   "metadata": {},
   "outputs": [],
   "source": [
    "# Fitting the CNN to the Training set\n",
    "history = model.fit(train_X, train_Y, batch_size = 5, epochs = epochs, validation_data=(valid_X, valid_Y))"
   ]
  },
  {
   "cell_type": "code",
   "execution_count": null,
   "metadata": {},
   "outputs": [],
   "source": [
    "# Evaluate using Test data\n",
    "test_Y_ = to_categorical(test_Y)\n",
    "scores = model.evaluate(test_X, test_Y_, verbose = 0)\n",
    "\n",
    "print(\"%s: %.2f%%\" % (model.metrics_names[0], scores[0]))\n",
    "print(\"%s: %.2f%%\" % (model.metrics_names[1], scores[1]*100))"
   ]
  },
  {
   "cell_type": "code",
   "execution_count": null,
   "metadata": {},
   "outputs": [],
   "source": [
    "model.save('CNN_model_1.h5')"
   ]
  }
 ],
 "metadata": {
  "kernelspec": {
   "display_name": "Python 3",
   "language": "python",
   "name": "python3"
  },
  "language_info": {
   "codemirror_mode": {
    "name": "ipython",
    "version": 3
   },
   "file_extension": ".py",
   "mimetype": "text/x-python",
   "name": "python",
   "nbconvert_exporter": "python",
   "pygments_lexer": "ipython3",
   "version": "3.6.4"
  }
 },
 "nbformat": 4,
 "nbformat_minor": 2
}
