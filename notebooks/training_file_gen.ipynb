{
 "cells": [
  {
   "cell_type": "code",
   "execution_count": 1,
   "metadata": {},
   "outputs": [],
   "source": [
    "import numpy as np \n",
    "import cv2\n",
    "import matplotlib.pyplot as plt"
   ]
  },
  {
   "cell_type": "code",
   "execution_count": null,
   "metadata": {},
   "outputs": [],
   "source": [
    "# data = np.genfromtxt('Image_Command.csv', delimiter = ',', dtype = str)"
   ]
  },
  {
   "cell_type": "code",
   "execution_count": null,
   "metadata": {},
   "outputs": [],
   "source": [
    "# for record in data[1:,:]:\n",
    "    \n",
    "#     img = cv2.imread('Data/' + record[0], 0)\n",
    "#     print(img.shape)\n",
    "\n",
    "\n",
    "#     plt.title(record[1] + str(' | ' + (record[0]).split('/')[1]))\n",
    "#     plt.imshow(img, cmap = 'gray')\n",
    "#     plt.show()\n",
    "\n",
    "#     arr = img.reshape((1, img.shape[0] * img.shape[1]))\n",
    "#     #print(img.shape)\n",
    "#     np.savetxt(file, arr, delimiter  = ',')\n",
    "#     np.savetxt(file2, np.array([label.index(record[1])]), delimiter = ',')\n",
    "\n",
    "#     pass\n",
    "\n",
    "\n",
    "\n"
   ]
  },
  {
   "cell_type": "markdown",
   "metadata": {},
   "source": [
    "# Preprocess image (read as gray scale, crop, filter) and generate training files"
   ]
  },
  {
   "cell_type": "code",
   "execution_count": 2,
   "metadata": {},
   "outputs": [],
   "source": [
    "data = np.genfromtxt('Image_Command_Equal.csv', delimiter = ',', dtype = str)\n",
    "data_file = open('Training_Data1.csv', 'w')\n",
    "label_file = open('Training_Labels1.csv', 'w')\n",
    "label = [\"Forward\", \"Left\", \"Right\"]"
   ]
  },
  {
   "cell_type": "code",
   "execution_count": 3,
   "metadata": {},
   "outputs": [],
   "source": [
    "for record in data[1:,:]:\n",
    "    \n",
    "    image = cv2.imread('Data/' + record[0], 0)  # reading as gray scale\n",
    "    #print(image.shape)\n",
    "    \n",
    "#     # Plot image\n",
    "#     plt.title(record[1] + str(' | ' + (record[0]).split('/')[1]))\n",
    "#     plt.imshow(image)\n",
    "#     plt.show()\n",
    "    \n",
    "    # Preprocess image\n",
    "    img = image[200:image.shape[0],0:image.shape[1]]\n",
    "    img = cv2.resize(img, (320,140), interpolation = cv2.INTER_AREA)\n",
    "    #img = cv2.GaussianBlur(img, (5,5), 0)\n",
    "    img = cv2.fastNlMeansDenoising(img,None,4,7,21)\n",
    "    #img = cv2.fastNlMeansDenoisingColored(img,None,10,10,7,21)\n",
    "    #img = cv2.cvtColor(img, cv2.COLOR_BGR2GRAY) \n",
    "\n",
    "#     # Plot image\n",
    "#     plt.title(record[1] + str(' | ' + (record[0]).split('/')[1]))\n",
    "#     plt.imshow(img, cmap = 'gray')\n",
    "#     plt.show()\n",
    "\n",
    "    arr = img.reshape((1, img.shape[0] * img.shape[1]))\n",
    "    #print(img.shape)\n",
    "    np.savetxt(data_file, arr, delimiter  = ',')\n",
    "    np.savetxt(label_file, np.array([label.index(record[1])]), delimiter = ',')\n",
    "\n",
    "    pass\n",
    "\n",
    "data_file.close()\n",
    "label_file.close()"
   ]
  },
  {
   "cell_type": "code",
   "execution_count": null,
   "metadata": {},
   "outputs": [],
   "source": [
    "arr.shape"
   ]
  },
  {
   "cell_type": "code",
   "execution_count": null,
   "metadata": {
    "scrolled": true
   },
   "outputs": [],
   "source": [
    "print(record[1],label.index(record[1]))"
   ]
  },
  {
   "cell_type": "code",
   "execution_count": null,
   "metadata": {},
   "outputs": [],
   "source": [
    " np.array([label.index(record[1])])"
   ]
  },
  {
   "cell_type": "code",
   "execution_count": null,
   "metadata": {},
   "outputs": [],
   "source": [
    "clear all"
   ]
  },
  {
   "cell_type": "code",
   "execution_count": null,
   "metadata": {},
   "outputs": [],
   "source": [
    "# # To check if images are being saved correctly \n",
    "# data = np.genfromtxt('Training_Data.npy', delimiter = ',', dtype = int)\n",
    "# print(data.shape, type(data))\n",
    "# data = data.reshape((280,640))\n",
    "# plt.imshow(data, cmap = 'gray')\n",
    "# plt.show()"
   ]
  },
  {
   "cell_type": "code",
   "execution_count": 4,
   "metadata": {},
   "outputs": [],
   "source": [
    "a = np.ones((3,3))"
   ]
  },
  {
   "cell_type": "code",
   "execution_count": 5,
   "metadata": {},
   "outputs": [
    {
     "data": {
      "text/plain": [
       "array([[1., 1., 1.],\n",
       "       [1., 1., 1.],\n",
       "       [1., 1., 1.]])"
      ]
     },
     "execution_count": 5,
     "metadata": {},
     "output_type": "execute_result"
    }
   ],
   "source": [
    "a"
   ]
  },
  {
   "cell_type": "code",
   "execution_count": 7,
   "metadata": {},
   "outputs": [],
   "source": [
    "b = a/28.0"
   ]
  },
  {
   "cell_type": "code",
   "execution_count": 8,
   "metadata": {},
   "outputs": [
    {
     "data": {
      "text/plain": [
       "array([[0.03571429, 0.03571429, 0.03571429],\n",
       "       [0.03571429, 0.03571429, 0.03571429],\n",
       "       [0.03571429, 0.03571429, 0.03571429]])"
      ]
     },
     "execution_count": 8,
     "metadata": {},
     "output_type": "execute_result"
    }
   ],
   "source": [
    "b"
   ]
  },
  {
   "cell_type": "code",
   "execution_count": null,
   "metadata": {},
   "outputs": [],
   "source": []
  }
 ],
 "metadata": {
  "kernelspec": {
   "display_name": "Python 3",
   "language": "python",
   "name": "python3"
  },
  "language_info": {
   "codemirror_mode": {
    "name": "ipython",
    "version": 3
   },
   "file_extension": ".py",
   "mimetype": "text/x-python",
   "name": "python",
   "nbconvert_exporter": "python",
   "pygments_lexer": "ipython3",
   "version": "3.6.4"
  }
 },
 "nbformat": 4,
 "nbformat_minor": 2
}
