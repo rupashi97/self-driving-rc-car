{
 "cells": [
  {
   "cell_type": "code",
   "execution_count": 1,
   "metadata": {},
   "outputs": [
    {
     "name": "stdout",
     "output_type": "stream",
     "text": [
      "pygame 1.9.4\n",
      "Hello from the pygame community. https://www.pygame.org/contribute.html\n"
     ]
    }
   ],
   "source": [
    "import serial\n",
    "import pygame\n",
    "from pygame.locals import *\n",
    "import time\n",
    "import pytz\n",
    "import datetime"
   ]
  },
  {
   "cell_type": "code",
   "execution_count": 2,
   "metadata": {},
   "outputs": [
    {
     "ename": "SyntaxError",
     "evalue": "(unicode error) 'unicodeescape' codec can't decode bytes in position 2-3: truncated \\UXXXXXXXX escape (<ipython-input-2-ae37ec373db9>, line 18)",
     "output_type": "error",
     "traceback": [
      "\u001b[1;36m  File \u001b[1;32m\"<ipython-input-2-ae37ec373db9>\"\u001b[1;36m, line \u001b[1;32m18\u001b[0m\n\u001b[1;33m    f = open('C:\\Users\\Vilohit Kaza\\Documents\\Stuff\\Major Project\\Data/' + 'Control_Data.csv', 'w' )\u001b[0m\n\u001b[1;37m            ^\u001b[0m\n\u001b[1;31mSyntaxError\u001b[0m\u001b[1;31m:\u001b[0m (unicode error) 'unicodeescape' codec can't decode bytes in position 2-3: truncated \\UXXXXXXXX escape\n"
     ]
    }
   ],
   "source": [
    "class RCTest(object):\n",
    "\n",
    "   def __init__(self):\n",
    "       pygame.init()\n",
    "       pygame.display.set_mode((250, 250))\n",
    "       self.ser = serial.Serial(\"COM4\", 9600, timeout=1)\n",
    "       self.send_inst = True\n",
    "       self.steer()\n",
    "\n",
    "   def steer(self):\n",
    "\n",
    "       #utc_time = datetime.datetime.now(pytz.utc)\n",
    "       #local_time = (utc_time.astimezone(pytz.timezone('Asia/Calcutta')))\n",
    "       #date = (str(local_time)).split()[0]\n",
    "\n",
    "\n",
    "\n",
    "       f = open('C:\\Users\\Vilohit Kaza\\Documents\\Stuff\\Major Project\\Data/' + 'Control_Data.csv', 'w' )\n",
    "       f.write(\"Command, Timestamp \\n\")\n",
    "\n",
    "\n",
    "       while self.send_inst:\n",
    "\n",
    "           for event in pygame.event.get():\n",
    "               if event.type == KEYDOWN:\n",
    "                   key_input = pygame.key.get_pressed()\n",
    "\n",
    "                   # complex orders\n",
    "                   if key_input[pygame.K_UP] and key_input[pygame.K_RIGHT]:\n",
    "                       print(\"Forward Right\")\n",
    "                       self.ser.write(chr(6).encode())\n",
    "                       f.write(\"Forward Right\" + \",\")\n",
    "\n",
    "                   elif key_input[pygame.K_UP] and key_input[pygame.K_LEFT]:\n",
    "                       print(\"Forward Left\")\n",
    "                       self.ser.write(chr(7).encode())\n",
    "                       f.write(\"Forward Left\" + \",\")\n",
    "\n",
    "                   elif key_input[pygame.K_DOWN] and key_input[pygame.K_RIGHT]:\n",
    "                       print(\"Reverse Right\")\n",
    "                       self.ser.write(chr(8).encode())\n",
    "                       f.write(\"Reverse Right\" + \",\")\n",
    "\n",
    "                   elif key_input[pygame.K_DOWN] and key_input[pygame.K_LEFT]:\n",
    "                       print(\"Reverse Left\")\n",
    "                       self.ser.write(chr(9).encode())\n",
    "                       f.write(\"Reverse Left\" + \",\")\n",
    "\n",
    "                   # simple orders\n",
    "                   elif key_input[pygame.K_UP]:\n",
    "                       print(\"Forward\")\n",
    "                       self.ser.write(chr(1).encode())\n",
    "                       f.write(\"Forward\" + \",\")\n",
    "\n",
    "                   elif key_input[pygame.K_DOWN]:\n",
    "                       print(\"Reverse\")\n",
    "                       self.ser.write(chr(2).encode())\n",
    "                       f.write(\"Reverse\" + \",\")\n",
    "\n",
    "                   elif key_input[pygame.K_RIGHT]:\n",
    "                       print(\"Right\")\n",
    "                       self.ser.write(chr(3).encode())\n",
    "                       f.write(\"Right\" + \",\")\n",
    "\n",
    "                   elif key_input[pygame.K_LEFT]:\n",
    "                       print(\"Left\")\n",
    "                       self.ser.write(chr(4).encode())\n",
    "                       f.write(\"Left\" + \",\")\n",
    "\n",
    "                   # exit\n",
    "                   elif key_input[pygame.K_x] or key_input[pygame.K_q]:\n",
    "                       print(\"Exit\")\n",
    "                       self.send_inst = False\n",
    "                       self.ser.write(chr(0).encode())\n",
    "                       self.ser.close()\n",
    "                       pygame.quit()\n",
    "                       break\n",
    "                   utc_time = datetime.datetime.now(pytz.utc)\n",
    "                   local_time = (utc_time.astimezone(pytz.timezone('Asia/Calcutta')))\n",
    "                   date = (str(local_time)).split()[0]\n",
    "\n",
    "                   f.write(str(local_time) + \"\\n\")\n",
    "\n",
    "\n",
    "               elif event.type == pygame.KEYUP:\n",
    "                   self.ser.write(chr(0).encode())\n",
    "                   f.write(\"Idle\" + \",\")\n",
    "                   utc_time = datetime.datetime.now(pytz.utc)\n",
    "                   local_time = (utc_time.astimezone(pytz.timezone('Asia/Calcutta')))\n",
    "                   date = (str(local_time)).split()[0]\n",
    "\n",
    "                   f.write(str(local_time) + \"\\n\")\n",
    "       f.close()\n",
    "\n",
    "\n",
    "if __name__ == '__main__':\n",
    "   RCTest()"
   ]
  },
  {
   "cell_type": "code",
   "execution_count": null,
   "metadata": {},
   "outputs": [],
   "source": []
  }
 ],
 "metadata": {
  "kernelspec": {
   "display_name": "Python 3",
   "language": "python",
   "name": "python3"
  },
  "language_info": {
   "codemirror_mode": {
    "name": "ipython",
    "version": 3
   },
   "file_extension": ".py",
   "mimetype": "text/x-python",
   "name": "python",
   "nbconvert_exporter": "python",
   "pygments_lexer": "ipython3",
   "version": "3.6.4"
  }
 },
 "nbformat": 4,
 "nbformat_minor": 2
}
